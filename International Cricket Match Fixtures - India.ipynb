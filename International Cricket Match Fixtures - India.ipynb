{
 "cells": [
  {
   "cell_type": "code",
   "execution_count": 36,
   "metadata": {},
   "outputs": [],
   "source": [
    "def intl_match_fixures():\n",
    "    #importing necessary modules\n",
    "    import selenium\n",
    "    from selenium import webdriver as wb\n",
    "    import pandas as pd\n",
    "    import time\n",
    "    \n",
    "    webD = wb.Chrome('chromedriver.exe')\n",
    "    webD.get('https://www.bcci.tv')\n",
    "    #click on international followed by fixtures\n",
    "    intl = webD.find_element_by_xpath('/html/body/div[3]/div/div[2]/div[2]/nav/ul/li[1]/div[2]').click()\n",
    "    fixtures =  webD.find_element_by_xpath('/html/body/div[3]/div/div[2]/div[2]/nav/ul/li[1]/div[2]/div/ul/li[1]/a').click()\n",
    "    time.sleep(5)#time for browser to load the page\n",
    "    #find the table containing results\n",
    "    table = webD.find_element_by_class_name('js-list')\n",
    "    titles = []\n",
    "    places = []\n",
    "    seriess = []\n",
    "    dates = []\n",
    "    times = []\n",
    "    #find all result elements in the tabl\n",
    "    results = webD.find_element_by_class_name('js-list').find_elements_by_tag_name('a')\n",
    "    # looping through all the row and extracting data\n",
    "    for result in results:\n",
    "        title = result.find_element_by_tag_name('p').find_element_by_tag_name('strong').text\n",
    "        place = result.find_element_by_tag_name('p').find_element_by_tag_name('span').text\n",
    "        series = result.find_element_by_class_name('fixture__format-strip').text.replace(\"\\n\",\" - \")\n",
    "        day = results[0].find_element_by_class_name('fixture__date').text\n",
    "        month = results[0].find_element_by_class_name('fixture__month').text\n",
    "        date = day + '-' + month\n",
    "        time = result.find_element_by_class_name('fixture__time').text\n",
    "        titles.append(title)\n",
    "        places.append(place)\n",
    "        seriess.append(series)\n",
    "        dates.append(date)\n",
    "        times.append(time)\n",
    "    #webD.close()\n",
    "    matches = pd.DataFrame({'Title':titles,'Place':places,'Series':seriess,'Date':dates,'time':times})\n",
    "    return matches"
   ]
  },
  {
   "cell_type": "code",
   "execution_count": 37,
   "metadata": {},
   "outputs": [
    {
     "name": "stdout",
     "output_type": "stream",
     "text": [
      "       Title                                Place  \\\n",
      "0   1st T20I                Manuka Oval, Canberra   \n",
      "1   2nd T20I        Sydney Cricket Ground, Sydney   \n",
      "2   3rd T20I        Sydney Cricket Ground, Sydney   \n",
      "3   1st Test              Adelaide Oval, Adelaide   \n",
      "4   2nd Test  Melbourne Cricket Ground, Melbourne   \n",
      "5   3rd Test        Sydney Cricket Ground, Sydney   \n",
      "6   4th Test    Brisbane Cricket Ground, Brisbane   \n",
      "7   1st Test             Trent Bridge, Nottingham   \n",
      "8   2nd Test                       Lord's, London   \n",
      "9   3rd Test                    Headingley, Leeds   \n",
      "10  4th Test                     The Oval, London   \n",
      "11  5th Test             Old Trafford, Manchester   \n",
      "\n",
      "                              Series         Date       time  \n",
      "0   T20I - AUSTRALIA V INDIA 2020/21  04-DECEMBER  13:40 IST  \n",
      "1   T20I - AUSTRALIA V INDIA 2020/21  04-DECEMBER  13:40 IST  \n",
      "2   T20I - AUSTRALIA V INDIA 2020/21  04-DECEMBER  13:40 IST  \n",
      "3   TEST - AUSTRALIA V INDIA 2020/21  04-DECEMBER  09:30 IST  \n",
      "4   TEST - AUSTRALIA V INDIA 2020/21  04-DECEMBER  05:00 IST  \n",
      "5   TEST - AUSTRALIA V INDIA 2020/21  04-DECEMBER  05:00 IST  \n",
      "6   TEST - AUSTRALIA V INDIA 2020/21  04-DECEMBER  05:30 IST  \n",
      "7        TEST - ENGLAND V INDIA 2021  04-DECEMBER  15:30 IST  \n",
      "8        TEST - ENGLAND V INDIA 2021  04-DECEMBER  15:30 IST  \n",
      "9        TEST - ENGLAND V INDIA 2021  04-DECEMBER  15:30 IST  \n",
      "10       TEST - ENGLAND V INDIA 2021  04-DECEMBER  15:30 IST  \n",
      "11       TEST - ENGLAND V INDIA 2021  04-DECEMBER  15:30 IST  \n"
     ]
    }
   ],
   "source": [
    "print(intl_match_fixures())"
   ]
  }
 ],
 "metadata": {
  "kernelspec": {
   "display_name": "Python 3",
   "language": "python",
   "name": "python3"
  },
  "language_info": {
   "codemirror_mode": {
    "name": "ipython",
    "version": 3
   },
   "file_extension": ".py",
   "mimetype": "text/x-python",
   "name": "python",
   "nbconvert_exporter": "python",
   "pygments_lexer": "ipython3",
   "version": "3.7.6"
  }
 },
 "nbformat": 4,
 "nbformat_minor": 4
}
